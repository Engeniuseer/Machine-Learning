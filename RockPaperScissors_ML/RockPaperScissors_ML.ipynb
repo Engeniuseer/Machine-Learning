{
 "cells": [
  {
   "cell_type": "markdown",
   "metadata": {},
   "source": [
    "## Playing RockPaperScissors using Machine Learning\n",
    "\n",
    "The goal of this project is to test different how different Machine Learning Classifiers play against you in RockPaperScissors game.\n",
    "\n",
    "The main objective will be to check if the algorithms are able to understand the objective of the game and detect some player patterns.\n",
    "\n",
    "To fit the model the inputs will be some records each one with the last three games played as feature and the winner option for the AI as target.\n",
    "\n",
    "Tested models from Sklearn:\n",
    "* Decision Tree\n",
    "* Random Forest"
   ]
  },
  {
   "cell_type": "code",
   "execution_count": 1,
   "metadata": {},
   "outputs": [],
   "source": [
    "# Imports\n",
    "import numpy as np\n",
    "import pandas as pd\n",
    "from sklearn.tree import DecisionTreeClassifier\n",
    "from sklearn.ensemble import RandomForestClassifier\n",
    "import matplotlib.pyplot as plt\n",
    "import pyautogui"
   ]
  },
  {
   "cell_type": "code",
   "execution_count": 2,
   "metadata": {},
   "outputs": [],
   "source": [
    "# Defining some variables\n",
    "\n",
    "# Dictio maps an integer value to every option\n",
    "dictio={'Rock':0,'Paper':1,'Scissors':2}\n",
    "options=np.array(['Rock','Paper','Scissors'])\n",
    "# victory tells us what we have to play to win each action of options\n",
    "victory=[1,2,0]"
   ]
  },
  {
   "cell_type": "code",
   "execution_count": 3,
   "metadata": {},
   "outputs": [],
   "source": [
    "# Defining the model options\n",
    "def get_model(model_name):\n",
    "    if model_name=='DecisionTree':\n",
    "        model=DecisionTreeClassifier(criterion='entropy')\n",
    "    else:\n",
    "        model=RandomForestClassifier(n_estimators=120)\n",
    "    print('You selected:',model_name)\n",
    "    return model"
   ]
  },
  {
   "cell_type": "code",
   "execution_count": 4,
   "metadata": {},
   "outputs": [
    {
     "name": "stdout",
     "output_type": "stream",
     "text": [
      "You selected: DecisionTree\n"
     ]
    }
   ],
   "source": [
    "model_name=pyautogui.confirm('Select a model:',buttons=['DecisionTree','RandomTree'])\n",
    "model=get_model(model_name)"
   ]
  },
  {
   "cell_type": "code",
   "execution_count": 5,
   "metadata": {},
   "outputs": [],
   "source": [
    "train_y=[]\n",
    "train_X=[]\n",
    "# X will save the choices of the user and the AI in the last three games\n",
    "# y will save which it would have been the winning choice for the AI\n",
    "# X,y are randomly initialized\n",
    "X=[np.array([0,1,2,1,2,0])]\n",
    "y=0\n",
    "# train_x,train_y will be the train dataset\n",
    "train_X.append(X[0])\n",
    "train_y.append(y)\n",
    "model=model.fit(train_X,train_y)"
   ]
  },
  {
   "cell_type": "code",
   "execution_count": 6,
   "metadata": {},
   "outputs": [
    {
     "name": "stdout",
     "output_type": "stream",
     "text": [
      "You selected: Rock and AI selected: Rock  Winner: DRAW\n",
      "\n",
      "You selected: Paper and AI selected: Rock  Winner: User\n",
      "\n",
      "You selected: Paper and AI selected: Rock  Winner: User\n",
      "\n",
      "You selected: Rock and AI selected: Paper  Winner: AI\n",
      "\n",
      "You selected: Scissors and AI selected: Rock  Winner: AI\n",
      "\n",
      "You selected: Paper and AI selected: Paper  Winner: DRAW\n",
      "\n",
      "You selected: Rock and AI selected: Paper  Winner: AI\n",
      "\n",
      "You selected: Paper and AI selected: Rock  Winner: User\n",
      "\n",
      "You selected: Paper and AI selected: Scissors  Winner: AI\n",
      "\n",
      "You selected: Rock and AI selected: Paper  Winner: AI\n",
      "\n",
      "You selected: Scissors and AI selected: Rock  Winner: AI\n",
      "\n",
      "You selected: Paper and AI selected: Scissors  Winner: AI\n",
      "\n",
      "You selected: Rock and AI selected: Paper  Winner: AI\n",
      "\n",
      "You selected: Paper and AI selected: Scissors  Winner: AI\n",
      "\n",
      "You selected: Paper and AI selected: Rock  Winner: User\n",
      "\n",
      "You selected: Rock and AI selected: Paper  Winner: AI\n",
      "\n",
      "You selected: Scissors and AI selected: Rock  Winner: AI\n",
      "\n",
      "You selected: Paper and AI selected: Scissors  Winner: AI\n",
      "\n",
      "You selected: Rock and AI selected: Paper  Winner: AI\n",
      "\n",
      "You selected: Paper and AI selected: Scissors  Winner: AI\n",
      "\n",
      "You selected: Paper and AI selected: Scissors  Winner: AI\n",
      "\n",
      "You selected: Rock and AI selected: Paper  Winner: AI\n",
      "\n",
      "You selected: Scissors and AI selected: Rock  Winner: AI\n",
      "\n",
      "You selected: Paper and AI selected: Scissors  Winner: AI\n",
      "\n",
      "AI: 18    Draw: 2    User: 4\n"
     ]
    }
   ],
   "source": [
    "#Results notifies how many games ended in AI win, User win or tie\n",
    "results=[0,0,0]\n",
    "while True:\n",
    "    #Input user choice\n",
    "    user_choice=pyautogui.confirm('Select your move',buttons=['Rock','Paper','Scissors','stop'])\n",
    "    #AI choice\n",
    "    pred=model.predict(X)\n",
    "    if user_choice==\"stop\":\n",
    "        break\n",
    "    # Update train dataset\n",
    "    user=dictio[user_choice]\n",
    "    y=victory[user]\n",
    "    \n",
    "    train_X.append(np.array(X[0]))\n",
    "    train_y.append(y)\n",
    "    model = model.fit(train_X, train_y)\n",
    "    # Update X with the new game\n",
    "    for i in range(0,4):\n",
    "        X[0][i]=X[0][i+2]\n",
    "    X[0][4]=user\n",
    "    X[0][5]=pred[0]\n",
    "    \n",
    "    # Add result\n",
    "    if pred==user:\n",
    "        results[1]+=1\n",
    "        res='DRAW'\n",
    "    elif pred==victory[user]:\n",
    "        results[0]+=1\n",
    "        res='AI'\n",
    "    else:\n",
    "        results[2]+=1\n",
    "        res='User'\n",
    "    print('You selected:',user_choice,'and AI selected:',options[pred[0]],' Winner:',res)\n",
    "    print()\n",
    "# Final Results   \n",
    "print('AI:',results[0],'   Draw:',results[1],'   User:',results[2])"
   ]
  },
  {
   "cell_type": "code",
   "execution_count": null,
   "metadata": {},
   "outputs": [],
   "source": []
  }
 ],
 "metadata": {
  "kernelspec": {
   "display_name": "Python 3",
   "language": "python",
   "name": "python3"
  },
  "language_info": {
   "codemirror_mode": {
    "name": "ipython",
    "version": 3
   },
   "file_extension": ".py",
   "mimetype": "text/x-python",
   "name": "python",
   "nbconvert_exporter": "python",
   "pygments_lexer": "ipython3",
   "version": "3.7.0"
  }
 },
 "nbformat": 4,
 "nbformat_minor": 2
}
